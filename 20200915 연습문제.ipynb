{
 "cells": [
  {
   "cell_type": "code",
   "execution_count": null,
   "metadata": {},
   "outputs": [],
   "source": [
    "1.  다음과 같은 배열을 만들어라.\n",
    "array([[   0.,    0.,    0.,    1.,    1.],\n",
    "       [   0.,    0.,    0.,    1.,    1.],\n",
    "       [   0.,    0.,    0.,    1.,    1.],\n",
    "       [  10.,   20.,   30.,   40.,   50.],\n",
    "       [  60.,   70.,   80.,   90.,  100.],\n",
    "       [ 110.,  120.,  130.,  140.,  150.],\n",
    "       [   0.,    0.,    0.,    1.,    1.],\n",
    "       [   0.,    0.,    0.,    1.,    1.],\n",
    "       [   0.,    0.,    0.,    1.,    1.],\n",
    "       [  10.,   20.,   30.,   40.,   50.],\n",
    "       [  60.,   70.,   80.,   90.,  100.],\n",
    "       [ 110.,  120.,  130.,  140.,  150.]])"
   ]
  },
  {
   "cell_type": "code",
   "execution_count": 119,
   "metadata": {},
   "outputs": [],
   "source": [
    "import numpy as np\n",
    "import pandas as pd"
   ]
  },
  {
   "cell_type": "code",
   "execution_count": 120,
   "metadata": {},
   "outputs": [
    {
     "data": {
      "text/plain": [
       "array([[  0,   0,   0,   1,   1],\n",
       "       [  0,   0,   0,   1,   1],\n",
       "       [  0,   0,   0,   1,   1],\n",
       "       [ 10,  20,  30,  40,  50],\n",
       "       [ 60,  70,  80,  90, 100],\n",
       "       [110, 120, 130, 140, 150],\n",
       "       [  0,   0,   0,   1,   1],\n",
       "       [  0,   0,   0,   1,   1],\n",
       "       [  0,   0,   0,   1,   1],\n",
       "       [ 10,  20,  30,  40,  50],\n",
       "       [ 60,  70,  80,  90, 100],\n",
       "       [110, 120, 130, 140, 150]])"
      ]
     },
     "execution_count": 120,
     "metadata": {},
     "output_type": "execute_result"
    }
   ],
   "source": [
    "arr1 = np.array([[0, 0, 0, 1, 1],\n",
    "                [0, 0, 0, 1, 1],\n",
    "                [0, 0, 0, 1, 1]])\n",
    "arr2 = np.array([[10, 20, 30, 40, 50],\n",
    "                [60, 70, 80, 90, 100],\n",
    "                [110, 120, 130, 140, 150]])\n",
    "\n",
    "arr3 = np.vstack([arr1, arr2])\n",
    "\n",
    "np.tile(arr3, (2, 1))"
   ]
  },
  {
   "cell_type": "code",
   "execution_count": null,
   "metadata": {},
   "outputs": [],
   "source": [
    "2.  다중 인덱스 참조 연습\n",
    "Cidx1\tA\t              B\n",
    "Cidx2\tC1\tC2\tC1\tC2\n",
    "0\t1.76\t0.40\t0.98\t2.24\n",
    "1\t1.87\t-0.98\t0.95\t-0.15\n",
    "2\t-0.10\t0.41\t0.14\t1.45\n",
    "3\t0.76\t0.12\t0.44\t0.33\n",
    "4\t1.49\t-0.21\t0.31\t-0.85\n",
    "\n",
    "- 위와 같은 구조의 데이터프레임을 제작하시오.\n",
    "- B, C1 참조하시오.\n",
    "- 0번 행,  B,C1  값을 참조하시오.\n",
    "- 0번행 B, C1 값을 100으로 변경하시오"
   ]
  },
  {
   "cell_type": "code",
   "execution_count": 28,
   "metadata": {},
   "outputs": [
    {
     "data": {
      "text/html": [
       "<div>\n",
       "<style scoped>\n",
       "    .dataframe tbody tr th:only-of-type {\n",
       "        vertical-align: middle;\n",
       "    }\n",
       "\n",
       "    .dataframe tbody tr th {\n",
       "        vertical-align: top;\n",
       "    }\n",
       "\n",
       "    .dataframe thead tr th {\n",
       "        text-align: left;\n",
       "    }\n",
       "</style>\n",
       "<table border=\"1\" class=\"dataframe\">\n",
       "  <thead>\n",
       "    <tr>\n",
       "      <th>Cidx1</th>\n",
       "      <th colspan=\"2\" halign=\"left\">A</th>\n",
       "      <th colspan=\"2\" halign=\"left\">B</th>\n",
       "    </tr>\n",
       "    <tr>\n",
       "      <th>Cidx2</th>\n",
       "      <th>C1</th>\n",
       "      <th>C2</th>\n",
       "      <th>C1</th>\n",
       "      <th>C2</th>\n",
       "    </tr>\n",
       "  </thead>\n",
       "  <tbody>\n",
       "    <tr>\n",
       "      <th>0</th>\n",
       "      <td>-0.32</td>\n",
       "      <td>-1.08</td>\n",
       "      <td>0.27</td>\n",
       "      <td>0.85</td>\n",
       "    </tr>\n",
       "    <tr>\n",
       "      <th>1</th>\n",
       "      <td>-0.22</td>\n",
       "      <td>0.90</td>\n",
       "      <td>-1.05</td>\n",
       "      <td>-1.46</td>\n",
       "    </tr>\n",
       "    <tr>\n",
       "      <th>2</th>\n",
       "      <td>0.22</td>\n",
       "      <td>0.61</td>\n",
       "      <td>0.19</td>\n",
       "      <td>0.58</td>\n",
       "    </tr>\n",
       "    <tr>\n",
       "      <th>3</th>\n",
       "      <td>-0.21</td>\n",
       "      <td>-1.58</td>\n",
       "      <td>-0.91</td>\n",
       "      <td>-0.99</td>\n",
       "    </tr>\n",
       "    <tr>\n",
       "      <th>4</th>\n",
       "      <td>0.73</td>\n",
       "      <td>1.34</td>\n",
       "      <td>-0.74</td>\n",
       "      <td>-0.43</td>\n",
       "    </tr>\n",
       "  </tbody>\n",
       "</table>\n",
       "</div>"
      ],
      "text/plain": [
       "Cidx1     A           B      \n",
       "Cidx2    C1    C2    C1    C2\n",
       "0     -0.32 -1.08  0.27  0.85\n",
       "1     -0.22  0.90 -1.05 -1.46\n",
       "2      0.22  0.61  0.19  0.58\n",
       "3     -0.21 -1.58 -0.91 -0.99\n",
       "4      0.73  1.34 -0.74 -0.43"
      ]
     },
     "execution_count": 28,
     "metadata": {},
     "output_type": "execute_result"
    }
   ],
   "source": [
    "myArr = np.round(np.random.randn(5, 4), 2)\n",
    "df = pd.DataFrame(myArr,\n",
    "            columns = [['A', 'A', 'B', 'B'],\n",
    "                       ['C1', 'C2', 'C1', 'C2']])\n",
    "df.columns.names = ['Cidx1', 'Cidx2']\n",
    "df"
   ]
  },
  {
   "cell_type": "code",
   "execution_count": 29,
   "metadata": {},
   "outputs": [
    {
     "data": {
      "text/plain": [
       "0    0.27\n",
       "1   -1.05\n",
       "2    0.19\n",
       "3   -0.91\n",
       "4   -0.74\n",
       "Name: (B, C1), dtype: float64"
      ]
     },
     "execution_count": 29,
     "metadata": {},
     "output_type": "execute_result"
    }
   ],
   "source": [
    "df['B', 'C1'] # df.B.C1"
   ]
  },
  {
   "cell_type": "code",
   "execution_count": 30,
   "metadata": {},
   "outputs": [
    {
     "data": {
      "text/plain": [
       "0.27"
      ]
     },
     "execution_count": 30,
     "metadata": {},
     "output_type": "execute_result"
    }
   ],
   "source": [
    "df.loc[0]['B', 'C1'] # df.loc[0].B.C1"
   ]
  },
  {
   "cell_type": "code",
   "execution_count": 31,
   "metadata": {},
   "outputs": [
    {
     "data": {
      "text/html": [
       "<div>\n",
       "<style scoped>\n",
       "    .dataframe tbody tr th:only-of-type {\n",
       "        vertical-align: middle;\n",
       "    }\n",
       "\n",
       "    .dataframe tbody tr th {\n",
       "        vertical-align: top;\n",
       "    }\n",
       "\n",
       "    .dataframe thead tr th {\n",
       "        text-align: left;\n",
       "    }\n",
       "</style>\n",
       "<table border=\"1\" class=\"dataframe\">\n",
       "  <thead>\n",
       "    <tr>\n",
       "      <th>Cidx1</th>\n",
       "      <th colspan=\"2\" halign=\"left\">A</th>\n",
       "      <th colspan=\"2\" halign=\"left\">B</th>\n",
       "    </tr>\n",
       "    <tr>\n",
       "      <th>Cidx2</th>\n",
       "      <th>C1</th>\n",
       "      <th>C2</th>\n",
       "      <th>C1</th>\n",
       "      <th>C2</th>\n",
       "    </tr>\n",
       "  </thead>\n",
       "  <tbody>\n",
       "    <tr>\n",
       "      <th>0</th>\n",
       "      <td>-0.32</td>\n",
       "      <td>-1.08</td>\n",
       "      <td>100.00</td>\n",
       "      <td>0.85</td>\n",
       "    </tr>\n",
       "    <tr>\n",
       "      <th>1</th>\n",
       "      <td>-0.22</td>\n",
       "      <td>0.90</td>\n",
       "      <td>-1.05</td>\n",
       "      <td>-1.46</td>\n",
       "    </tr>\n",
       "    <tr>\n",
       "      <th>2</th>\n",
       "      <td>0.22</td>\n",
       "      <td>0.61</td>\n",
       "      <td>0.19</td>\n",
       "      <td>0.58</td>\n",
       "    </tr>\n",
       "    <tr>\n",
       "      <th>3</th>\n",
       "      <td>-0.21</td>\n",
       "      <td>-1.58</td>\n",
       "      <td>-0.91</td>\n",
       "      <td>-0.99</td>\n",
       "    </tr>\n",
       "    <tr>\n",
       "      <th>4</th>\n",
       "      <td>0.73</td>\n",
       "      <td>1.34</td>\n",
       "      <td>-0.74</td>\n",
       "      <td>-0.43</td>\n",
       "    </tr>\n",
       "  </tbody>\n",
       "</table>\n",
       "</div>"
      ],
      "text/plain": [
       "Cidx1     A             B      \n",
       "Cidx2    C1    C2      C1    C2\n",
       "0     -0.32 -1.08  100.00  0.85\n",
       "1     -0.22  0.90   -1.05 -1.46\n",
       "2      0.22  0.61    0.19  0.58\n",
       "3     -0.21 -1.58   -0.91 -0.99\n",
       "4      0.73  1.34   -0.74 -0.43"
      ]
     },
     "execution_count": 31,
     "metadata": {},
     "output_type": "execute_result"
    }
   ],
   "source": [
    "df.loc[0]['B', 'C1'] = 100    # df.loc[0].B.C1 = 100\n",
    "df"
   ]
  },
  {
   "cell_type": "code",
   "execution_count": null,
   "metadata": {},
   "outputs": [],
   "source": [
    "3. 연관규칙 연습 데이터셋\n",
    "\n",
    "dataset =\n",
    "1         계란, 우유\n",
    "2         계란, 기저귀, 맥주, 사과\n",
    "3         우유, 기저귀, 맥주, 콜라\n",
    "4         계란, 우유, 맥주, 기저귀 \n",
    "5         계란, 우유, 맥주, 콜라\n",
    "위 데이터를 저장하고, \n",
    "\n",
    "X={계란, 맥주}, Y={기저귀} 인 경우에 대해\n",
    "1) 지지도 계산\n",
    "\n",
    "2) 신뢰도 계산\n",
    "\n",
    "3) 향상도 계산"
   ]
  },
  {
   "cell_type": "code",
   "execution_count": 104,
   "metadata": {},
   "outputs": [],
   "source": [
    "dataset = {1 : ['계란', '우유'],\n",
    "           2 : ['계란', '기저귀', '맥주', '사과'],\n",
    "           3 : ['우유', '기저귀', '맥주', '콜라'],\n",
    "           4 : ['계란', '우유', '맥주', '기저귀'],\n",
    "           5 : ['계란', '우유', '맥주', '콜라']}\n",
    "\n",
    "X = {'계란', '맥주'}\n",
    "Y = {'기저귀'}"
   ]
  },
  {
   "cell_type": "code",
   "execution_count": 115,
   "metadata": {},
   "outputs": [],
   "source": [
    "def count(data, dataset) :\n",
    "    count = 0\n",
    "    for key, value in dataset.items() :\n",
    "        count_sub = 0\n",
    "        for i in range(len(data)) :\n",
    "            if data[i] in list(set(value)) : # set로 반복 제거\n",
    "                count_sub += 1\n",
    "        if count_sub == len(data) :\n",
    "            count += 1\n",
    "    return count"
   ]
  },
  {
   "cell_type": "code",
   "execution_count": 116,
   "metadata": {},
   "outputs": [
    {
     "data": {
      "text/plain": [
       "0.4"
      ]
     },
     "execution_count": 116,
     "metadata": {},
     "output_type": "execute_result"
    }
   ],
   "source": [
    "# 1) 지지도 계산\n",
    "\n",
    "s_X_Y = count(list(X|Y), dataset) / len(dataset)\n",
    "s_X_Y"
   ]
  },
  {
   "cell_type": "code",
   "execution_count": 117,
   "metadata": {},
   "outputs": [
    {
     "data": {
      "text/plain": [
       "0.6666666666666666"
      ]
     },
     "execution_count": 117,
     "metadata": {},
     "output_type": "execute_result"
    }
   ],
   "source": [
    "# 2) 신뢰도 계산\n",
    "\n",
    "c_X_Y = count(list(X|Y), dataset) / count(list(X), dataset)\n",
    "c_X_Y"
   ]
  },
  {
   "cell_type": "code",
   "execution_count": 118,
   "metadata": {},
   "outputs": [
    {
     "data": {
      "text/plain": [
       "1.1111111111111112"
      ]
     },
     "execution_count": 118,
     "metadata": {},
     "output_type": "execute_result"
    }
   ],
   "source": [
    "# 3) 향상도 계산\n",
    "\n",
    "Lift_X_Y = c_X_Y / (count(list(Y), dataset) / len(dataset))\n",
    "Lift_X_Y"
   ]
  },
  {
   "cell_type": "code",
   "execution_count": null,
   "metadata": {},
   "outputs": [],
   "source": []
  },
  {
   "cell_type": "code",
   "execution_count": 153,
   "metadata": {},
   "outputs": [
    {
     "data": {
      "text/html": [
       "<div>\n",
       "<style scoped>\n",
       "    .dataframe tbody tr th:only-of-type {\n",
       "        vertical-align: middle;\n",
       "    }\n",
       "\n",
       "    .dataframe tbody tr th {\n",
       "        vertical-align: top;\n",
       "    }\n",
       "\n",
       "    .dataframe thead th {\n",
       "        text-align: right;\n",
       "    }\n",
       "</style>\n",
       "<table border=\"1\" class=\"dataframe\">\n",
       "  <thead>\n",
       "    <tr style=\"text-align: right;\">\n",
       "      <th></th>\n",
       "      <th>0</th>\n",
       "    </tr>\n",
       "  </thead>\n",
       "  <tbody>\n",
       "    <tr>\n",
       "      <th>1</th>\n",
       "      <td>[계란, 우유]</td>\n",
       "    </tr>\n",
       "    <tr>\n",
       "      <th>2</th>\n",
       "      <td>[계란, 기저귀, 맥주, 사과]</td>\n",
       "    </tr>\n",
       "    <tr>\n",
       "      <th>3</th>\n",
       "      <td>[우유, 기저귀, 맥주, 콜라]</td>\n",
       "    </tr>\n",
       "    <tr>\n",
       "      <th>4</th>\n",
       "      <td>[계란, 우유, 맥주, 기저귀]</td>\n",
       "    </tr>\n",
       "    <tr>\n",
       "      <th>5</th>\n",
       "      <td>[계란, 우유, 맥주, 콜라]</td>\n",
       "    </tr>\n",
       "  </tbody>\n",
       "</table>\n",
       "</div>"
      ],
      "text/plain": [
       "                   0\n",
       "1           [계란, 우유]\n",
       "2  [계란, 기저귀, 맥주, 사과]\n",
       "3  [우유, 기저귀, 맥주, 콜라]\n",
       "4  [계란, 우유, 맥주, 기저귀]\n",
       "5   [계란, 우유, 맥주, 콜라]"
      ]
     },
     "execution_count": 153,
     "metadata": {},
     "output_type": "execute_result"
    }
   ],
   "source": [
    "dataframe = pd.DataFrame(pd.Series(dataset))\n",
    "dataframe"
   ]
  },
  {
   "cell_type": "code",
   "execution_count": 150,
   "metadata": {},
   "outputs": [],
   "source": [
    "def count2(data, dataframe) :\n",
    "    count = 0\n",
    "    for i in dataframe[0] :\n",
    "        count_sub = 0\n",
    "        for j in range(len(data)) :\n",
    "            if data[j] in list(set(i)) :\n",
    "                count_sub += 1\n",
    "        if count_sub == len(data) :\n",
    "            count += 1\n",
    "    return count"
   ]
  },
  {
   "cell_type": "code",
   "execution_count": 154,
   "metadata": {},
   "outputs": [
    {
     "data": {
      "text/plain": [
       "0.4"
      ]
     },
     "execution_count": 154,
     "metadata": {},
     "output_type": "execute_result"
    }
   ],
   "source": [
    "# 1) 지지도 계산\n",
    "\n",
    "s_X_Y2 = count2(list(X|Y), dataframe) / len(dataframe)\n",
    "s_X_Y2"
   ]
  },
  {
   "cell_type": "code",
   "execution_count": 155,
   "metadata": {},
   "outputs": [
    {
     "data": {
      "text/plain": [
       "0.6666666666666666"
      ]
     },
     "execution_count": 155,
     "metadata": {},
     "output_type": "execute_result"
    }
   ],
   "source": [
    "# 2) 신뢰도 계산\n",
    "\n",
    "c_X_Y2 = count2(list(X|Y), dataframe) / count2(list(X), dataframe)\n",
    "c_X_Y2"
   ]
  },
  {
   "cell_type": "code",
   "execution_count": 156,
   "metadata": {},
   "outputs": [
    {
     "data": {
      "text/plain": [
       "1.1111111111111112"
      ]
     },
     "execution_count": 156,
     "metadata": {},
     "output_type": "execute_result"
    }
   ],
   "source": [
    "# 3) 향상도 계산\n",
    "\n",
    "Lift_X_Y2 = c_X_Y2 / (count2(list(Y), dataframe) / len(dataframe))\n",
    "Lift_X_Y2"
   ]
  },
  {
   "cell_type": "code",
   "execution_count": null,
   "metadata": {},
   "outputs": [],
   "source": []
  }
 ],
 "metadata": {
  "kernelspec": {
   "display_name": "Python 3",
   "language": "python",
   "name": "python3"
  },
  "language_info": {
   "codemirror_mode": {
    "name": "ipython",
    "version": 3
   },
   "file_extension": ".py",
   "mimetype": "text/x-python",
   "name": "python",
   "nbconvert_exporter": "python",
   "pygments_lexer": "ipython3",
   "version": "3.8.3"
  }
 },
 "nbformat": 4,
 "nbformat_minor": 2
}
